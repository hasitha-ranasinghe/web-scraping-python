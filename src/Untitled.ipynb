{
 "cells": [
  {
   "cell_type": "code",
   "execution_count": 1,
   "metadata": {},
   "outputs": [],
   "source": [
    "from selenium import webdriver\n",
    "from selenium.webdriver.support.ui import WebDriverWait \n",
    "from selenium.webdriver.support import expected_conditions\n",
    "from bs4 import BeautifulSoup\n",
    "import re\n",
    "import pandas as pd\n",
    "import numpy as np"
   ]
  },
  {
   "cell_type": "code",
   "execution_count": 371,
   "metadata": {},
   "outputs": [],
   "source": [
    "import matplotlib.pyplot as plt\n",
    "import seaborn as sns\n",
    "%matplotlib inline"
   ]
  },
  {
   "cell_type": "code",
   "execution_count": 35,
   "metadata": {},
   "outputs": [],
   "source": [
    "options = webdriver.ChromeOptions()\n",
    "options.add_experimental_option('excludeSwitches', ['enable-automation']) \n",
    "driver = webdriver.Chrome('/Users/Hasitha/Documents/GitHub/web-scraping-python/src/chromedriver',options=options)\n",
    "driver.implicitly_wait(20)"
   ]
  },
  {
   "cell_type": "code",
   "execution_count": 41,
   "metadata": {},
   "outputs": [],
   "source": [
    "#url = \"https://www.propertyvalue.com.au/explore/Greater%20Dandenong-VIC\"\n",
    "\n",
    "url = 'https://www.jbhifi.com.au/products/ps4-playstation-4-1tb-pro-console'\n",
    "driver.get(url)"
   ]
  },
  {
   "cell_type": "code",
   "execution_count": 52,
   "metadata": {},
   "outputs": [
    {
     "name": "stdout",
     "output_type": "stream",
     "text": [
      "$519\n"
     ]
    }
   ],
   "source": [
    "soup = BeautifulSoup(driver.page_source, 'lxml')\n",
    "\n",
    "price = soup.find('span', attrs={'class': 'price'})\n",
    "print(price.text.strip())\n"
   ]
  },
  {
   "cell_type": "code",
   "execution_count": null,
   "metadata": {},
   "outputs": [],
   "source": []
  },
  {
   "cell_type": "code",
   "execution_count": 58,
   "metadata": {},
   "outputs": [],
   "source": [
    "base_url = 'https://www.domain.com.au/'\n",
    "\n",
    "url = 'https://www.domain.com.au/sold-listings/narre-warren-vic-3805/?excludepricewithheld=2&page=1'\n",
    "driver.get(url)"
   ]
  },
  {
   "cell_type": "code",
   "execution_count": 382,
   "metadata": {},
   "outputs": [],
   "source": [
    "google_search = driver.find_element_by_xpath('/html/body/div[2]/div/div/div[3]/div[2]/div[1]/div[3]/div[1]/div/a')\n",
    "google_search.click()"
   ]
  },
  {
   "cell_type": "code",
   "execution_count": 349,
   "metadata": {},
   "outputs": [],
   "source": [
    "soup = BeautifulSoup(driver.page_source, 'lxml')\n",
    "\n",
    "price = soup.find_all('p', attrs = {'class':'css-mgq8yx'})\n",
    "address = soup.find_all('span', attrs={'class':'css-1fclaxo'})\n",
    "details = soup.find_all('span', attrs={'class': 'css-1rzse3v'})\n",
    "date = soup.find_all('span', attrs={'class': 'css-1nj9ymt'})\n",
    "property_type = soup.find_all('span', attrs={'class': 'css-693528'})\n",
    "\n",
    "#all_properties = soup.find_all('li', attrs={'class': 'css-1b4kfhp'})"
   ]
  },
  {
   "cell_type": "code",
   "execution_count": 173,
   "metadata": {
    "scrolled": true
   },
   "outputs": [],
   "source": [
    "date_list = []\n",
    "\n",
    "for row in date:\n",
    "    date_list.append('-'.join(row.getText().split()[4:]))"
   ]
  },
  {
   "cell_type": "code",
   "execution_count": 337,
   "metadata": {},
   "outputs": [],
   "source": [
    "price_list = []\n",
    "\n",
    "for row in price:\n",
    "    price_list.append(row.getText().strip()[1:].replace(',',''))"
   ]
  },
  {
   "cell_type": "code",
   "execution_count": 299,
   "metadata": {},
   "outputs": [],
   "source": [
    "address_list = []\n",
    "count = 0\n",
    "for row in address:\n",
    "    if (int(count)%2)== 0:\n",
    "        address_list.append(row.getText().strip()[:-1])\n",
    "    count = count+1"
   ]
  },
  {
   "cell_type": "code",
   "execution_count": 361,
   "metadata": {},
   "outputs": [],
   "source": [
    "property_type_list=[]\n",
    "\n",
    "for row in property_type:\n",
    "    \n",
    "    property_type_list.append(row.getText().strip())"
   ]
  },
  {
   "cell_type": "code",
   "execution_count": 320,
   "metadata": {
    "scrolled": false
   },
   "outputs": [],
   "source": [
    "details_list=[]\n",
    "beds = []\n",
    "baths = []\n",
    "parking = []\n",
    "area = []\n",
    "\n",
    "for row in details:\n",
    "    #print (row.getText().split())\n",
    "    details_list.append(row.getText().strip().split())\n",
    "\n",
    "    \n",
    "status = False\n",
    "\n",
    "for item in details_list:\n",
    "    \n",
    "    if len(item) == 2:\n",
    "        \n",
    "        if item[1] == 'Beds' and status == True:\n",
    "            area.append('0')\n",
    "            status = False\n",
    "        if item[1] == 'Beds':\n",
    "            beds.append(item[0])\n",
    "        elif item[1] == 'Bath' or item[1] == 'Baths':\n",
    "            baths.append(item[0])\n",
    "        elif item[1] == 'Parking':\n",
    "            status = True\n",
    "            if item[0].isdigit():\n",
    "                parking.append(item[0])\n",
    "            else:\n",
    "                parking.append('0')\n",
    "    elif len(item)==1: \n",
    "    \n",
    "        area.append(item[0][:-2])\n",
    "        status = False\n",
    "    "
   ]
  },
  {
   "cell_type": "code",
   "execution_count": 363,
   "metadata": {},
   "outputs": [],
   "source": [
    "df = pd.DataFrame({'address':address_list,'property_type':property_type_list,'date':date_list,'beds':beds,'baths':baths,\n",
    "        'parking':parking,'area':area,'price':price_list})"
   ]
  },
  {
   "cell_type": "code",
   "execution_count": 364,
   "metadata": {},
   "outputs": [],
   "source": [
    "df[['beds', 'baths','parking','area','price']] = df[['beds', 'baths','parking','area','price']].apply(pd.to_numeric)"
   ]
  },
  {
   "cell_type": "code",
   "execution_count": 365,
   "metadata": {},
   "outputs": [
    {
     "data": {
      "text/html": [
       "<div>\n",
       "<style scoped>\n",
       "    .dataframe tbody tr th:only-of-type {\n",
       "        vertical-align: middle;\n",
       "    }\n",
       "\n",
       "    .dataframe tbody tr th {\n",
       "        vertical-align: top;\n",
       "    }\n",
       "\n",
       "    .dataframe thead th {\n",
       "        text-align: right;\n",
       "    }\n",
       "</style>\n",
       "<table border=\"1\" class=\"dataframe\">\n",
       "  <thead>\n",
       "    <tr style=\"text-align: right;\">\n",
       "      <th></th>\n",
       "      <th>address</th>\n",
       "      <th>property_type</th>\n",
       "      <th>date</th>\n",
       "      <th>beds</th>\n",
       "      <th>baths</th>\n",
       "      <th>parking</th>\n",
       "      <th>area</th>\n",
       "      <th>price</th>\n",
       "    </tr>\n",
       "  </thead>\n",
       "  <tbody>\n",
       "    <tr>\n",
       "      <th>0</th>\n",
       "      <td>76 Kendall Drive</td>\n",
       "      <td>House</td>\n",
       "      <td>30-Apr-2020</td>\n",
       "      <td>5</td>\n",
       "      <td>2</td>\n",
       "      <td>2</td>\n",
       "      <td>719</td>\n",
       "      <td>700000</td>\n",
       "    </tr>\n",
       "    <tr>\n",
       "      <th>1</th>\n",
       "      <td>64 Elstar Road</td>\n",
       "      <td>House</td>\n",
       "      <td>27-Apr-2020</td>\n",
       "      <td>3</td>\n",
       "      <td>2</td>\n",
       "      <td>2</td>\n",
       "      <td>390</td>\n",
       "      <td>530000</td>\n",
       "    </tr>\n",
       "    <tr>\n",
       "      <th>2</th>\n",
       "      <td>1/57 Amber Crescent</td>\n",
       "      <td>House</td>\n",
       "      <td>27-Apr-2020</td>\n",
       "      <td>2</td>\n",
       "      <td>1</td>\n",
       "      <td>1</td>\n",
       "      <td>0</td>\n",
       "      <td>437000</td>\n",
       "    </tr>\n",
       "    <tr>\n",
       "      <th>3</th>\n",
       "      <td>17 Wallowa Crescent</td>\n",
       "      <td>House</td>\n",
       "      <td>24-Apr-2020</td>\n",
       "      <td>3</td>\n",
       "      <td>1</td>\n",
       "      <td>4</td>\n",
       "      <td>676</td>\n",
       "      <td>510000</td>\n",
       "    </tr>\n",
       "    <tr>\n",
       "      <th>4</th>\n",
       "      <td>34A Blackwood Drive</td>\n",
       "      <td>House</td>\n",
       "      <td>24-Apr-2020</td>\n",
       "      <td>3</td>\n",
       "      <td>2</td>\n",
       "      <td>2</td>\n",
       "      <td>255</td>\n",
       "      <td>530000</td>\n",
       "    </tr>\n",
       "  </tbody>\n",
       "</table>\n",
       "</div>"
      ],
      "text/plain": [
       "               address property_type         date  beds  baths  parking  area  \\\n",
       "0     76 Kendall Drive         House  30-Apr-2020     5      2        2   719   \n",
       "1       64 Elstar Road         House  27-Apr-2020     3      2        2   390   \n",
       "2  1/57 Amber Crescent         House  27-Apr-2020     2      1        1     0   \n",
       "3  17 Wallowa Crescent         House  24-Apr-2020     3      1        4   676   \n",
       "4  34A Blackwood Drive         House  24-Apr-2020     3      2        2   255   \n",
       "\n",
       "    price  \n",
       "0  700000  \n",
       "1  530000  \n",
       "2  437000  \n",
       "3  510000  \n",
       "4  530000  "
      ]
     },
     "execution_count": 365,
     "metadata": {},
     "output_type": "execute_result"
    }
   ],
   "source": [
    "df.head()"
   ]
  },
  {
   "cell_type": "code",
   "execution_count": 374,
   "metadata": {},
   "outputs": [
    {
     "data": {
      "text/plain": [
       "<matplotlib.axes._subplots.AxesSubplot at 0x1a1cea7f10>"
      ]
     },
     "execution_count": 374,
     "metadata": {},
     "output_type": "execute_result"
    },
    {
     "data": {
      "image/png": "[encoded data removed]",
      "text/plain": [
       "<Figure size 720x432 with 2 Axes>"
      ]
     },
     "metadata": {
      "needs_background": "light"
     },
     "output_type": "display_data"
    }
   ],
   "source": [
    "plt.figure(figsize=(10,6))\n",
    "plt.title('data correlations')\n",
    "sns.heatmap(df.corr(), annot=True)"
   ]
  },
  {
   "cell_type": "code",
   "execution_count": 327,
   "metadata": {},
   "outputs": [
    {
     "data": {
      "text/plain": [
       "address    object\n",
       "price      object\n",
       "date       object\n",
       "beds        int64\n",
       "baths       int64\n",
       "parking     int64\n",
       "area        int64\n",
       "dtype: object"
      ]
     },
     "execution_count": 327,
     "metadata": {},
     "output_type": "execute_result"
    }
   ],
   "source": [
    "df.dtypes"
   ]
  },
  {
   "cell_type": "code",
   "execution_count": null,
   "metadata": {},
   "outputs": [],
   "source": []
  },
  {
   "cell_type": "code",
   "execution_count": null,
   "metadata": {},
   "outputs": [],
   "source": []
  },
  {
   "cell_type": "code",
   "execution_count": null,
   "metadata": {},
   "outputs": [],
   "source": []
  },
  {
   "cell_type": "code",
   "execution_count": null,
   "metadata": {},
   "outputs": [],
   "source": []
  },
  {
   "cell_type": "code",
   "execution_count": null,
   "metadata": {},
   "outputs": [],
   "source": []
  },
  {
   "cell_type": "code",
   "execution_count": null,
   "metadata": {},
   "outputs": [],
   "source": []
  },
  {
   "cell_type": "code",
   "execution_count": null,
   "metadata": {},
   "outputs": [],
   "source": []
  },
  {
   "cell_type": "markdown",
   "metadata": {},
   "source": [
    "from webdriver_manager.chrome import ChromeDriverManager\n",
    "\n",
    "driver = webdriver.Chrome(ChromeDriverManager().install())"
   ]
  }
 ],
 "metadata": {
  "kernelspec": {
   "display_name": "Python 3",
   "language": "python",
   "name": "python3"
  },
  "language_info": {
   "codemirror_mode": {
    "name": "ipython",
    "version": 3
   },
   "file_extension": ".py",
   "mimetype": "text/x-python",
   "name": "python",
   "nbconvert_exporter": "python",
   "pygments_lexer": "ipython3",
   "version": "3.7.6"
  }
 },
 "nbformat": 4,
 "nbformat_minor": 4
}
